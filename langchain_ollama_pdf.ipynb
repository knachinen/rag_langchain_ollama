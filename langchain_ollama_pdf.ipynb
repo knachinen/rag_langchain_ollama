{
 "cells": [
  {
   "cell_type": "code",
   "execution_count": 32,
   "id": "6e53c576-a136-416c-a13f-10c4a22dd09e",
   "metadata": {
    "execution": {
     "iopub.execute_input": "2024-02-08T05:34:35.068472Z",
     "iopub.status.busy": "2024-02-08T05:34:35.066490Z",
     "iopub.status.idle": "2024-02-08T05:34:35.103501Z",
     "shell.execute_reply": "2024-02-08T05:34:35.101304Z",
     "shell.execute_reply.started": "2024-02-08T05:34:35.068407Z"
    }
   },
   "outputs": [],
   "source": [
    "from langchain import hub\n",
    "from langchain.llms import Ollama\n",
    "from langchain.schema import StrOutputParser\n",
    "from langchain.vectorstores import Chroma\n",
    "from langchain.callbacks.manager import CallbackManager\n",
    "from langchain.callbacks.streaming_stdout import StreamingStdOutCallbackHandler\n",
    "from langchain.embeddings.sentence_transformer import SentenceTransformerEmbeddings\n",
    "from langchain_core.runnables import RunnablePassthrough\n",
    "from langchain.document_loaders import WebBaseLoader\n",
    "from langchain_community.document_loaders import PyPDFLoader\n",
    "from langchain.text_splitter import CharacterTextSplitter\n",
    "from langchain.text_splitter import RecursiveCharacterTextSplitter"
   ]
  },
  {
   "cell_type": "code",
   "execution_count": 37,
   "id": "a4b90893-8691-4455-b999-6aa82630c091",
   "metadata": {
    "execution": {
     "iopub.execute_input": "2024-02-08T05:58:49.372019Z",
     "iopub.status.busy": "2024-02-08T05:58:49.366608Z",
     "iopub.status.idle": "2024-02-08T05:58:49.463586Z",
     "shell.execute_reply": "2024-02-08T05:58:49.462966Z",
     "shell.execute_reply.started": "2024-02-08T05:58:49.371998Z"
    }
   },
   "outputs": [],
   "source": [
    "class LCRAG:\n",
    "    def __init__(\n",
    "        self, \n",
    "        rag_prompt=\"rlm/rag-prompt\", \n",
    "        llm_model=Ollama(model=\"dolphin-phi\")\n",
    "    ):\n",
    "        # set rag prompt\n",
    "        self.prompt = hub.pull(rag_prompt)\n",
    "        \n",
    "        # create the open-source embedding function\n",
    "        self.set_embedding_function()\n",
    "        \n",
    "        # set LLM\n",
    "        self.set_llm(llm_model)\n",
    "\n",
    "    def set_embedding_function(self, model_name=\"all-MiniLM-L6-v2\"):\n",
    "        self.embedding_function = SentenceTransformerEmbeddings(model_name=model_name)\n",
    "\n",
    "    def set_llm(self, model):\n",
    "        self.llm = model\n",
    "\n",
    "    def load_webdocs(self, web_paths):\n",
    "        self.loader = WebBaseLoader(web_paths=web_paths)\n",
    "\n",
    "    def load_pdf(self, pdf_path):\n",
    "        self.loader = PyPDFLoader(pdf_path)\n",
    "        \n",
    "    def split_docs(\n",
    "        self,\n",
    "        chunk_size=1000,\n",
    "        chunk_overlap=200\n",
    "    ):\n",
    "        self.text_splitter = RecursiveCharacterTextSplitter(\n",
    "            chunk_size=chunk_size, chunk_overlap=chunk_overlap)\n",
    "        self.splits = self.text_splitter.split_documents(self.loader.load())\n",
    "\n",
    "    def set_vectorstore(self):\n",
    "        # load it into Chroma\n",
    "        self.db = Chroma.from_documents(self.splits, self.embedding_function)\n",
    "        \n",
    "    def set_rag_chain(self):\n",
    "        self.retriever = self.db.as_retriever(\n",
    "            search_type=\"similarity\", search_kwargs={\"k\": 6})\n",
    "        \n",
    "        self.rag_chain = (\n",
    "            {\"context\": self.retriever | self.format_docs, \n",
    "             \"question\": RunnablePassthrough()}\n",
    "            | self.prompt\n",
    "            | self.llm\n",
    "            | StrOutputParser()\n",
    "        )\n",
    "\n",
    "    def format_docs(self, docs):\n",
    "        return \"\\n\\n\".join(doc.page_content for doc in docs)\n",
    "\n",
    "    def process(self):\n",
    "        self.split_docs()\n",
    "        self.set_vectorstore()\n",
    "        self.set_rag_chain()\n",
    "\n",
    "    def process_web(self, web_paths):\n",
    "        self.load_webdocs(web_paths)\n",
    "        self.process()\n",
    "\n",
    "    def process_pdf(self, pdf_paths):\n",
    "        self.load_pdf(pdf_paths)\n",
    "        self.process()\n",
    "\n",
    "    def get_answer(self, question):\n",
    "        return self.rag_chain.invoke(question)"
   ]
  },
  {
   "cell_type": "code",
   "execution_count": null,
   "id": "04a108a0-1102-43f3-8114-105da0988ba2",
   "metadata": {
    "execution": {
     "iopub.execute_input": "2024-02-08T05:34:46.160495Z",
     "iopub.status.busy": "2024-02-08T05:34:46.157735Z",
     "iopub.status.idle": "2024-02-08T05:35:04.873729Z",
     "shell.execute_reply": "2024-02-08T05:35:04.872972Z",
     "shell.execute_reply.started": "2024-02-08T05:34:46.160455Z"
    }
   },
   "outputs": [],
   "source": [
    "lcrag = LCRAG()\n",
    "lcrag.process_pdf(\"./celex_02001L0095_jan.pdf\")"
   ]
  },
  {
   "cell_type": "code",
   "execution_count": 35,
   "id": "dbba2166-de5c-4150-8fc0-e2515173c2fb",
   "metadata": {
    "execution": {
     "iopub.execute_input": "2024-02-08T05:36:33.943530Z",
     "iopub.status.busy": "2024-02-08T05:36:33.940192Z",
     "iopub.status.idle": "2024-02-08T05:36:47.191396Z",
     "shell.execute_reply": "2024-02-08T05:36:47.190076Z",
     "shell.execute_reply.started": "2024-02-08T05:36:33.943470Z"
    }
   },
   "outputs": [
    {
     "name": "stdout",
     "output_type": "stream",
     "text": [
      "The document focuses on the requirements and mandates for setting product risks, the European standards that should be adopted, and the process for publishing references in the Official Journal of the European Communities. Additionally, it discusses the procedure for implementing the Directive in accordance with the advisory procedure provided for in Article 15(3) and the involvement of a Committee to assist the Commission. It also mentions the period set by Article 5(6) of Decision 1999/468/EC for making decisions regarding product standards. Lastly, it covers other obligations for producers and distributors under the Directive 92/59/EEC.\n"
     ]
    }
   ],
   "source": [
    "answer = lcrag.get_answer(\"summary the document\")\n",
    "print(answer)"
   ]
  },
  {
   "cell_type": "code",
   "execution_count": 36,
   "id": "9e7e88a0-465a-4156-a975-aa0e9be90877",
   "metadata": {
    "execution": {
     "iopub.execute_input": "2024-02-08T05:43:07.036799Z",
     "iopub.status.busy": "2024-02-08T05:43:07.016774Z",
     "iopub.status.idle": "2024-02-08T05:43:21.436679Z",
     "shell.execute_reply": "2024-02-08T05:43:21.435658Z",
     "shell.execute_reply.started": "2024-02-08T05:43:07.036726Z"
    }
   },
   "outputs": [
    {
     "data": {
      "text/plain": [
       "'The requirements and mandates for setting product risks include providing consumers with relevant information about inherent risks, adopting measures commensurate with the characteristics of products supplied, requiring due care from distributors to ensure compliance with safety requirements, participating in monitoring the safety of products placed on the market, promptly informing competent authorities about incompatible risks with general safety requirements, conducting safe checks and tests on product safety properties, providing necessary information, labeling products with warnings where needed, issuing special warnings for certain persons or conditions, and ordering warning for dangerous products. Additionally, producers and distributors must provide the required information to competent authorities upon request.'"
      ]
     },
     "execution_count": 36,
     "metadata": {},
     "output_type": "execute_result"
    }
   ],
   "source": [
    "lcrag.get_answer(\"what are the requirements and mandates for setting product risks?\")"
   ]
  }
 ],
 "metadata": {
  "kernelspec": {
   "display_name": "Python 3 (ipykernel)",
   "language": "python",
   "name": "python3"
  },
  "language_info": {
   "codemirror_mode": {
    "name": "ipython",
    "version": 3
   },
   "file_extension": ".py",
   "mimetype": "text/x-python",
   "name": "python",
   "nbconvert_exporter": "python",
   "pygments_lexer": "ipython3",
   "version": "3.11.0"
  }
 },
 "nbformat": 4,
 "nbformat_minor": 5
}
